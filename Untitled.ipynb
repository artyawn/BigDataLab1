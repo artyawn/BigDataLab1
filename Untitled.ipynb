{
 "cells": [
  {
   "cell_type": "code",
   "execution_count": 1,
   "id": "93a37bfc",
   "metadata": {},
   "outputs": [],
   "source": [
    "#imports\n",
    "!pip install ipywidgets==7.6.4 --quiet\n",
    "from ipywidgets import FileUpload, Image, HBox"
   ]
  },
  {
   "cell_type": "code",
   "execution_count": 2,
   "id": "954dc8ff",
   "metadata": {},
   "outputs": [],
   "source": [
    "def display_uploaded_screenshots(screenshots):\n",
    "\n",
    "    images = [Image(value=i) for i in screenshots]\n",
    "    ## Side by side thanks to HBox widgets\n",
    "    sidebyside = HBox(images)\n",
    "    ## Finally, show.\n",
    "    display(sidebyside)"
   ]
  },
  {
   "cell_type": "code",
   "execution_count": 3,
   "id": "ccf42532",
   "metadata": {},
   "outputs": [
    {
     "data": {
      "application/vnd.jupyter.widget-view+json": {
       "model_id": "162312ec94c1452db01525e5290646ad",
       "version_major": 2,
       "version_minor": 0
      },
      "text/plain": [
       "FileUpload(value={}, accept='image/*', description='Upload', multiple=True)"
      ]
     },
     "metadata": {},
     "output_type": "display_data"
    }
   ],
   "source": [
    "# Прикрепите файлы с изображениями\n",
    "uploader = FileUpload(accept = 'image/*', multiple = True)\n",
    "display(uploader)"
   ]
  },
  {
   "cell_type": "code",
   "execution_count": 4,
   "id": "f9de27d5",
   "metadata": {
    "scrolled": true
   },
   "outputs": [
    {
     "data": {
      "application/vnd.jupyter.widget-view+json": {
       "model_id": "7b28fd1b54454a72a12e502493ea5b97",
       "version_major": 2,
       "version_minor": 0
      },
      "text/plain": [
       "HBox(children=(Image(value=b'\\x89PNG\\r\\n\\x1a\\n\\x00\\x00\\x00\\rIHDR\\x00\\x00\\x04L\\x00\\x00\\x02\\x7f\\x08\\x06\\x00\\x00\\…"
      ]
     },
     "metadata": {},
     "output_type": "display_data"
    }
   ],
   "source": [
    "# Отобразит скриншоты. Вверху скрытая под тремя точками ячейка с функцией для отображения. Можете что-нибудь там поменять, если вам не нравится вывод. \n",
    "display_uploaded_screenshots(uploader.data)"
   ]
  },
  {
   "cell_type": "code",
   "execution_count": 5,
   "id": "c687a8b2",
   "metadata": {},
   "outputs": [
    {
     "data": {
      "application/vnd.jupyter.widget-view+json": {
       "model_id": "8ad89f55d55649f390a7e8e1af138e0e",
       "version_major": 2,
       "version_minor": 0
      },
      "text/plain": [
       "FileUpload(value={}, accept='image/*', description='Upload', multiple=True)"
      ]
     },
     "metadata": {},
     "output_type": "display_data"
    }
   ],
   "source": [
    "uploader = FileUpload(accept = 'image/*', multiple = True)\n",
    "display(uploader)"
   ]
  },
  {
   "cell_type": "code",
   "execution_count": 7,
   "id": "4f194218",
   "metadata": {
    "scrolled": true
   },
   "outputs": [
    {
     "data": {
      "application/vnd.jupyter.widget-view+json": {
       "model_id": "5d2cd2b2899a4d6c8cbc5b5be24b5004",
       "version_major": 2,
       "version_minor": 0
      },
      "text/plain": [
       "HBox(children=(Image(value=b'\\x89PNG\\r\\n\\x1a\\n\\x00\\x00\\x00\\rIHDR\\x00\\x00\\x02\\xe9\\x00\\x00\\x01\\x9f\\x08\\x06\\x00\\x…"
      ]
     },
     "metadata": {},
     "output_type": "display_data"
    }
   ],
   "source": [
    "display_uploaded_screenshots(uploader.data)"
   ]
  },
  {
   "cell_type": "code",
   "execution_count": null,
   "id": "60d27158",
   "metadata": {},
   "outputs": [],
   "source": []
  }
 ],
 "metadata": {
  "kernelspec": {
   "display_name": "Python 3",
   "language": "python",
   "name": "python3"
  },
  "language_info": {
   "codemirror_mode": {
    "name": "ipython",
    "version": 3
   },
   "file_extension": ".py",
   "mimetype": "text/x-python",
   "name": "python",
   "nbconvert_exporter": "python",
   "pygments_lexer": "ipython3",
   "version": "3.8.8"
  }
 },
 "nbformat": 4,
 "nbformat_minor": 5
}
