{
 "cells": [
  {
   "cell_type": "code",
   "execution_count": 1,
   "id": "69ebc2f8",
   "metadata": {},
   "outputs": [],
   "source": [
    "#imports\n",
    "!pip install ipywidgets==7.6.4 --quiet\n",
    "from ipywidgets import FileUpload, Image, HBox"
   ]
  },
  {
   "cell_type": "code",
   "execution_count": 2,
   "id": "da737d4f",
   "metadata": {},
   "outputs": [],
   "source": [
    "def display_uploaded_screenshots(screenshots):\n",
    "\n",
    "    images = [Image(value=i) for i in screenshots]\n",
    "    ## Side by side thanks to HBox widgets\n",
    "    sidebyside = HBox(images)\n",
    "    ## Finally, show.\n",
    "    display(sidebyside)"
   ]
  },
  {
   "cell_type": "code",
   "execution_count": 3,
   "id": "9daf642a",
   "metadata": {},
   "outputs": [
    {
     "data": {
      "application/vnd.jupyter.widget-view+json": {
       "model_id": "162312ec94c1452db01525e5290646ad",
       "version_major": 2,
       "version_minor": 0
      },
      "text/plain": [
       "FileUpload(value={}, accept='image/*', description='Upload', multiple=True)"
      ]
     },
     "metadata": {},
     "output_type": "display_data"
    }
   ],
   "source": [
    "# Прикрепите файлы с изображениями\n",
    "uploader = FileUpload(accept = 'image/*', multiple = True)\n",
    "display(uploader)"
   ]
  },
  {
   "cell_type": "code",
   "execution_count": 4,
   "id": "5b08408f",
   "metadata": {
    "scrolled": true
   },
   "outputs": [
    {
     "data": {
      "application/vnd.jupyter.widget-view+json": {
       "model_id": "7b28fd1b54454a72a12e502493ea5b97",
       "version_major": 2,
       "version_minor": 0
      },
      "text/plain": [
       "HBox(children=(Image(value=b'\\x89PNG\\r\\n\\x1a\\n\\x00\\x00\\x00\\rIHDR\\x00\\x00\\x04L\\x00\\x00\\x02\\x7f\\x08\\x06\\x00\\x00\\…"
      ]
     },
     "metadata": {},
     "output_type": "display_data"
    }
   ],
   "source": [
    "# Отобразит скриншоты. Вверху скрытая под тремя точками ячейка с функцией для отображения. Можете что-нибудь там поменять, если вам не нравится вывод. \n",
    "display_uploaded_screenshots(uploader.data)"
   ]
  },
  {
   "cell_type": "code",
   "execution_count": 5,
   "id": "6ff907f4",
   "metadata": {},
   "outputs": [
    {
     "data": {
      "application/vnd.jupyter.widget-view+json": {
       "model_id": "8ad89f55d55649f390a7e8e1af138e0e",
       "version_major": 2,
       "version_minor": 0
      },
      "text/plain": [
       "FileUpload(value={}, accept='image/*', description='Upload', multiple=True)"
      ]
     },
     "metadata": {},
     "output_type": "display_data"
    }
   ],
   "source": [
    "uploader = FileUpload(accept = 'image/*', multiple = True)\n",
    "display(uploader)"
   ]
  },
  {
   "cell_type": "code",
   "execution_count": null,
   "id": "47c1066d",
   "metadata": {},
   "outputs": [],
   "source": [
    "display_uploaded_screenshots(uploader.data)"
   ]
  }
 ],
 "metadata": {
  "kernelspec": {
   "display_name": "Python 3",
   "language": "python",
   "name": "python3"
  },
  "language_info": {
   "codemirror_mode": {
    "name": "ipython",
    "version": 3
   },
   "file_extension": ".py",
   "mimetype": "text/x-python",
   "name": "python",
   "nbconvert_exporter": "python",
   "pygments_lexer": "ipython3",
   "version": "3.8.8"
  }
 },
 "nbformat": 4,
 "nbformat_minor": 5
}
